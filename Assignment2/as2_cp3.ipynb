{
  "cells": [
    {
      "cell_type": "markdown",
      "metadata": {
        "id": "fyL7qKv3ZPU7"
      },
      "source": [
        "# Loading Packages"
      ]
    },
    {
      "cell_type": "code",
      "execution_count": 2,
      "metadata": {
        "id": "99SGJ3V199YA"
      },
      "outputs": [],
      "source": [
        "import numpy as np\n",
        "import tensorflow as tf\n",
        "from tqdm import tqdm\n",
        "import matplotlib.pyplot as plt\n",
        "from random import shuffle"
      ]
    },
    {
      "cell_type": "markdown",
      "metadata": {
        "id": "Ay7KbO-OYDEm"
      },
      "source": [
        "# Functions"
      ]
    },
    {
      "cell_type": "code",
      "execution_count": 3,
      "metadata": {
        "id": "D7DBpyYcyuzx"
      },
      "outputs": [],
      "source": [
        "def unpickle(file):\n",
        "    import pickle\n",
        "    with open(file, 'rb') as fo:\n",
        "        dict = pickle.load(fo, encoding='bytes')\n",
        "    return dict"
      ]
    },
    {
      "cell_type": "code",
      "execution_count": 4,
      "metadata": {
        "id": "8zWGeVZq03qF"
      },
      "outputs": [],
      "source": [
        "def loadBatch(filename):\n",
        "  for i in filename:\n",
        "    features=unpickle(i)[b'data']\n",
        "    labels=unpickle(i)[b'labels']\n",
        " # ind_list = [i for i in range(len(features))]\n",
        " # shuffle(ind_list)\n",
        " # for i in range(len(features)):\n",
        " #   features[i]=features[ind_list[i]]\n",
        " #   labels[i]=labels[ind_list[i]]\n",
        "  X=features\n",
        "  y=labels\n",
        "  Y=one_hot_encode(10,y)\n",
        "  return X,Y,y"
      ]
    },
    {
      "cell_type": "code",
      "execution_count": 5,
      "metadata": {
        "id": "9S46N1ZLxPyX"
      },
      "outputs": [],
      "source": [
        "def one_hot_encode(category,y):\n",
        "  Y=np.eye(category)\n",
        "  Y1=[]\n",
        "  for ele in y:\n",
        "    Y1.append(Y[int(ele)])\n",
        "  return Y1"
      ]
    },
    {
      "cell_type": "code",
      "execution_count": 6,
      "metadata": {
        "id": "saSAPTW2W5a4"
      },
      "outputs": [],
      "source": [
        "def initialization(m,n):\n",
        "  w=np.random.normal(0, 1/np.sqrt(n), (m,n))\n",
        "  b=np.zeros([m,1])\n",
        "  return w,b"
      ]
    },
    {
      "cell_type": "code",
      "execution_count": 7,
      "metadata": {
        "id": "qPMey5qOZub4"
      },
      "outputs": [],
      "source": [
        "def forward(X,W_1,b_1,W_2,b_2,drop_rate):\n",
        "  n_b=tf.ones([1,np.size(X,0)],tf.float64)\n",
        "  s_1=tf.matmul(W_1,np.transpose(X))+tf.matmul(b_1,n_b)\n",
        "  h=tf.nn.relu(s_1)\n",
        "  U_1=np.random.rand(*h.shape)<drop_rate\n",
        "  h=h*U_1\n",
        "  s_2=tf.matmul(W_2,h)+tf.matmul(b_2,n_b)\n",
        "  p=tf.nn.softmax(s_2,0)\n",
        "  return h,p"
      ]
    },
    {
      "cell_type": "code",
      "execution_count": 8,
      "metadata": {
        "id": "91MSETW9RskL"
      },
      "outputs": [],
      "source": [
        "def Wb_gradient(X,Y,W_1,b_1,W_2,b_2,eta,lmd,drop_rate): \n",
        "  h,p=forward(X,W_1,b_1,W_2,b_2,drop_rate)\n",
        "  N=np.size(X,0)\n",
        "  n_b=tf.ones([1,N],tf.float64)\n",
        "  g=-(tf.transpose(Y)-p)\n",
        "  J_W2=tf.multiply(1/N, tf.matmul(g,tf.transpose(h)))+2*lmd*W_2\n",
        "  J_b2=tf.multiply(1/N, tf.matmul(g,tf.transpose(n_b)))\n",
        "  \n",
        "  g=tf.matmul(tf.transpose(W_2),g)\n",
        "  h=np.array(h)\n",
        "  h[h>0]=1\n",
        "  g=tf.math.multiply(g,h)\n",
        "  J_W1=tf.multiply(1/N,tf.matmul(g,X))+2*lmd*W_1\n",
        "  J_b1=tf.multiply(1/N,tf.matmul(g,tf.transpose(n_b)))\n",
        "  return J_W1,J_b1,J_W2,J_b2\n"
      ]
    },
    {
      "cell_type": "code",
      "execution_count": 9,
      "metadata": {
        "id": "ISWaQpQMQRXc"
      },
      "outputs": [],
      "source": [
        "def ComputeCost(X,Y,W_1,b_1,W_2,b_2,lmd,drop_rate):\n",
        "  h,p=forward(X,W_1,b_1,W_2,b_2,drop_rate)\n",
        "  J_1_mat=tf.linalg.trace(-tf.matmul(Y,np.log(p)))\n",
        "  J_1=J_1_mat/X.shape[0]\n",
        "  J_2=tf.math.reduce_sum(tf.square(W_1))+tf.math.reduce_sum(tf.square(W_2))\n",
        "  cost=J_1+lmd*J_2\n",
        "  return cost"
      ]
    },
    {
      "cell_type": "code",
      "execution_count": 10,
      "metadata": {
        "id": "GM_XnStkNIHA"
      },
      "outputs": [],
      "source": [
        "def accuracy(train_X,train_y,Wstar1,bstar1,Wstar2,bstar2):\n",
        "  H,P=forward(train_X,Wstar1,bstar1,Wstar2,bstar2,drop_rate)\n",
        "  predics=np.argmax(P,axis=0)\n",
        "  a=predics-train_y\n",
        "  count=0\n",
        "  for i in a:\n",
        "    if i==0:\n",
        "      count+=1\n",
        "  acc=count/len(train_y)\n",
        "  return acc "
      ]
    },
    {
      "cell_type": "code",
      "execution_count": 11,
      "metadata": {
        "id": "R-kfpWhMWDWc"
      },
      "outputs": [],
      "source": [
        "def Minibatch(train_X,train_Y,train_y,W_1,b_1,W_2,b_2,n_batch,eta_min,eta_max,n_s,current_epoch,lmd,drop_rate):\n",
        "  n=int(train_X.shape[0]/n_batch)\n",
        "  for i in range(n):\n",
        "    t=current_epoch*n+i\n",
        "    eta=generate_eta(eta_min,eta_max,n_s,t)\n",
        "    j_start=i*n_batch\n",
        "    j_end=(i+1)*n_batch\n",
        "    Xtr=train_X[j_start:j_end]\n",
        "    Ytr=train_Y[j_start:j_end]\n",
        "    ytr=train_y[j_start:j_end]\n",
        "\n",
        "    J_w1,J_b1,J_w2,J_b2=Wb_gradient(Xtr,Ytr,W_1,b_1,W_2,b_2,eta,lmd,drop_rate)\n",
        "    W_1=W_1-eta*J_w1\n",
        "    W_2=W_2-eta*J_w2\n",
        "    b_1=b_1-eta*J_b1\n",
        "    b_2=b_2-eta*J_b2\n",
        "  Wstar1=tf.identity(W_1) \n",
        "  Wstar2=tf.identity(W_2)  \n",
        "  bstar1=tf.identity(b_1)  \n",
        "  bstar2=tf.identity(b_2)\n",
        "  return Wstar1,Wstar2,bstar1,bstar2"
      ]
    },
    {
      "cell_type": "code",
      "execution_count": 12,
      "metadata": {
        "id": "gCjAK7OxrYKR"
      },
      "outputs": [],
      "source": [
        "def generate_eta(eta_min,eta_max,n_s,t):\n",
        "  k=(eta_max-eta_min)/(n_s)\n",
        "  current_cycle = int(t / (2 * n_s))\n",
        "  if t<n_s+(2*n_s*current_cycle):\n",
        "    eta_current=eta_min+k*(t-current_cycle*2*n_s)\n",
        "  elif (current_cycle+1)*2*n_s>t>=n_s+(2*n_s*current_cycle):\n",
        "    eta_current=eta_max-k*(t-current_cycle*2*n_s-n_s)\n",
        "  elif t>=(current_cycle+1)*2*n_s:\n",
        "    eta_current=eta_min+(t-2*n_s)*k\n",
        "  return eta_current"
      ]
    },
    {
      "cell_type": "markdown",
      "metadata": {
        "id": "URfSAzAu5pH9"
      },
      "source": [
        "#Data Loading"
      ]
    },
    {
      "cell_type": "code",
      "execution_count": 13,
      "metadata": {
        "colab": {
          "base_uri": "https://localhost:8080/"
        },
        "id": "XCsOvVcog7rd",
        "outputId": "d0229c18-2cb2-496e-b29d-02f051895b45"
      },
      "outputs": [
        {
          "name": "stdout",
          "output_type": "stream",
          "text": [
            "50000\n"
          ]
        }
      ],
      "source": [
        "file1=['/Users/gaogao/Desktop/DD2424/Assignment2/cifar-10-batches-py/data_batch_1']\n",
        "X_n,Y_n,y_n=loadBatch(file1)\n",
        "files=[['/Users/gaogao/Desktop/DD2424/Assignment2/cifar-10-batches-py/data_batch_2'],['/Users/gaogao/Desktop/DD2424/Assignment2/cifar-10-batches-py/data_batch_3'],['/Users/gaogao/Desktop/DD2424/Assignment2/cifar-10-batches-py/data_batch_4'],['/Users/gaogao/Desktop/DD2424/Assignment2/cifar-10-batches-py/data_batch_5']]\n",
        "for i in range(len(files)):\n",
        "  X,Y,y=loadBatch(files[i])\n",
        "  X_n=list(X_n)+list(X)\n",
        "  Y_n=list(Y_n)+list(Y)\n",
        "  y_n=list(y_n)+list(y)\n",
        "print(np.size(X_n,0))"
      ]
    },
    {
      "cell_type": "code",
      "execution_count": 26,
      "metadata": {
        "colab": {
          "base_uri": "https://localhost:8080/"
        },
        "id": "lgMV8H3wjDva",
        "outputId": "550c0aef-3490-4016-d1b5-9189d971ec41"
      },
      "outputs": [
        {
          "name": "stdout",
          "output_type": "stream",
          "text": [
            "[[[1 2]\n",
            "  [3 4]]\n",
            "\n",
            " [[5 6]\n",
            "  [3 7]]\n",
            "\n",
            " [[8 2]\n",
            "  [4 5]]]\n"
          ]
        }
      ],
      "source": [
        "import numpy as np\n",
        "a=[1,2,3,4,5,6,3,7,8,2,4,5]\n",
        "a=np.reshape(a,(3,2,2))\n",
        "print(a)"
      ]
    },
    {
      "cell_type": "code",
      "execution_count": 14,
      "metadata": {
        "id": "AG1TpiREqh0Y"
      },
      "outputs": [
        {
          "name": "stderr",
          "output_type": "stream",
          "text": [
            "2022-04-12 13:21:38.047797: I tensorflow/core/platform/cpu_feature_guard.cc:145] This TensorFlow binary is optimized with Intel(R) MKL-DNN to use the following CPU instructions in performance critical operations:  SSE4.1 SSE4.2\n",
            "To enable them in non-MKL-DNN operations, rebuild TensorFlow with the appropriate compiler flags.\n",
            "2022-04-12 13:21:38.051495: I tensorflow/core/common_runtime/process_util.cc:115] Creating new thread pool with default inter op setting: 8. Tune using inter_op_parallelism_threads for best performance.\n"
          ]
        }
      ],
      "source": [
        "X=tf.cast(X_n,dtype=tf.float64)\n",
        "Y=tf.cast(Y_n,dtype=tf.float64)\n",
        "y=tf.cast(y_n,dtype=tf.float64)\n",
        "\n",
        "from numpy.core.fromnumeric import std\n",
        "mean_X=tf.reduce_mean(X,1)\n",
        "mean_X=tf.reshape(mean_X,[50000,1])\n",
        "ones=tf.ones([1,3072],dtype=tf.float64)\n",
        "\n",
        "mean_X=tf.matmul(mean_X,ones)\n",
        "std_X=tf.math.reduce_std(X,1)\n",
        "std_X=tf.reshape(std_X,[50000,1])\n",
        "std_X=tf.matmul(std_X,ones)\n",
        "\n",
        "X=tf.subtract(X,mean_X)\n",
        "X_n=tf.divide(X,std_X)"
      ]
    },
    {
      "cell_type": "code",
      "execution_count": 15,
      "metadata": {
        "id": "3jiBE9btQLNz"
      },
      "outputs": [],
      "source": [
        "Y_n=Y\n",
        "y_n=y"
      ]
    },
    {
      "cell_type": "markdown",
      "metadata": {
        "id": "h-ezD4fzTO34"
      },
      "source": [
        "# Using the Tuned Lambda"
      ]
    },
    {
      "cell_type": "code",
      "execution_count": 16,
      "metadata": {
        "id": "FiPrvmNExQ_B"
      },
      "outputs": [],
      "source": [
        "Wstar1,bstar1=initialization(512,3072)# hidden units test\n",
        "Wstar2,bstar2=initialization(10,512)"
      ]
    },
    {
      "cell_type": "code",
      "execution_count": 18,
      "metadata": {
        "id": "-ysfJlCJTwpH"
      },
      "outputs": [],
      "source": [
        "train_X=X_n[0:48000]\n",
        "train_Y=Y_n[0:48000]\n",
        "train_y=y_n[0:48000]\n",
        "\n",
        "validation_X=X_n[48000:50000]\n",
        "validation_Y=Y_n[48000:50000]\n",
        "validation_y=y_n[48000:50000]"
      ]
    },
    {
      "cell_type": "code",
      "execution_count": 19,
      "metadata": {
        "colab": {
          "base_uri": "https://localhost:8080/"
        },
        "id": "LnSLXJpzTTkJ",
        "outputId": "a32144d9-5650-4d67-83d0-a8004d654e03"
      },
      "outputs": [
        {
          "name": "stderr",
          "output_type": "stream",
          "text": [
            "  2%|▏         | 1/57 [06:55<6:28:15, 415.99s/it]"
          ]
        },
        {
          "name": "stdout",
          "output_type": "stream",
          "text": [
            "---epochs :  0 ---cost :  tf.Tensor(2.742334917725284, shape=(), dtype=float64) -----accuracy :  0.099125 --\n",
            "\n",
            "---epochs :  0 ---valiation cost :  tf.Tensor(2.7424991039456628, shape=(), dtype=float64) -----validation accuracy :  0.101 --\n",
            "\n",
            "---epochs :  1 ---cost :  tf.Tensor(1.8248262751990176, shape=(), dtype=float64) -----accuracy :  0.44508333333333333 --\n",
            "\n",
            "---epochs :  1 ---valiation cost :  tf.Tensor(1.8903414203706488, shape=(), dtype=float64) -----validation accuracy :  0.407 --\n",
            "\n"
          ]
        },
        {
          "name": "stderr",
          "output_type": "stream",
          "text": [
            "  5%|▌         | 3/57 [45:03<15:17:27, 1019.40s/it]"
          ]
        },
        {
          "name": "stdout",
          "output_type": "stream",
          "text": [
            "---epochs :  2 ---cost :  tf.Tensor(1.8220484021650567, shape=(), dtype=float64) -----accuracy :  0.44525 --\n",
            "\n",
            "---epochs :  2 ---valiation cost :  tf.Tensor(1.8394461108523856, shape=(), dtype=float64) -----validation accuracy :  0.431 --\n",
            "\n"
          ]
        }
      ],
      "source": [
        "trained_costs=[]\n",
        "trained_accs=[]\n",
        "trained_va_costs=[]\n",
        "trained_va_acc=[]\n",
        "from tqdm import tqdm\n",
        "import math\n",
        "lmd=0.00047778605913602264\n",
        "n_batch=100\n",
        "eta_min=1e-5\n",
        "eta_max=0.1\n",
        "n=train_X.shape[0]\n",
        "n_s=2*math.floor(n/n_batch)\n",
        "cycles=3\n",
        "iterations=2*n_s*cycles\n",
        "epochs=int(iterations/n_batch)\n",
        "drop_rate=0.75\n",
        "for k in tqdm(range(epochs)):\n",
        "\n",
        "  tf.random.shuffle(train_X, seed=400)\n",
        "  tf.random.shuffle(train_Y, seed=400)\n",
        "  tf.random.shuffle(train_y, seed=400)\n",
        "\n",
        "  cost=ComputeCost(train_X,train_Y,Wstar1,bstar1,Wstar2,bstar2,lmd,drop_rate)\n",
        "  acc=accuracy(train_X,train_y,Wstar1,bstar1,Wstar2,bstar2)\n",
        "  cost_va=ComputeCost(validation_X,validation_Y,Wstar1,bstar1,Wstar2,bstar2,lmd,drop_rate)\n",
        "  acc_va=accuracy(validation_X,validation_y,Wstar1,bstar1,Wstar2,bstar2)\n",
        "  Wstar1,Wstar2,bstar1,bstar2=Minibatch(train_X,train_Y,train_y,Wstar1,bstar1,Wstar2,bstar2,n_batch,eta_min,eta_max,n_s,k,lmd,drop_rate)   \n",
        "  if k%2==1:\n",
        "    #anneling learning rate\n",
        "    eta_max=eta_max*0.9\n",
        "    #flipping image\n",
        "    picture_X=tf.reshape(train_X,(train_X.shape[0],3,32,32))\n",
        "    flip_X=np.flip(picture_X,3)\n",
        "    train_X=tf.reshape(flip_X,(train_X.shape[0],3072))\n",
        "  print(\"---epochs : \",k,\"---cost : \",cost,\"-----accuracy : \",acc,\"--\\n\")\n",
        "  print(\"---epochs : \",k,\"---valiation cost : \",cost_va,\"-----validation accuracy : \",acc_va,\"--\\n\")\n",
        "trained_costs.append(cost)\n",
        "trained_accs.append(acc)\n",
        "trained_va_costs.append(cost_va)\n",
        "trained_va_acc.append(acc_va)"
      ]
    },
    {
      "cell_type": "code",
      "execution_count": null,
      "metadata": {
        "id": "noLeKjIw9rxq"
      },
      "outputs": [],
      "source": [
        "trained_W1=Wstar1\n",
        "trained_W2=Wstar2\n",
        "trained_b1=bstar1\n",
        "trained_b2=bstar2"
      ]
    },
    {
      "cell_type": "code",
      "execution_count": null,
      "metadata": {
        "id": "T7po4ZDmMxTO"
      },
      "outputs": [],
      "source": [
        "import numpy as np  \n",
        "np.save('/content/drive/My Drive/assignment2/trained_W1.npy', trained_W1)\n",
        "np.save('/content/drive/My Drive/assignment2/trained_W2.npy', trained_W2)\n",
        "np.save('/content/drive/My Drive/assignment2/trained_b1.npy', trained_b1)\n",
        "np.save('/content/drive/My Drive/assignment2/trained_b2.npy', trained_b2)"
      ]
    },
    {
      "cell_type": "code",
      "execution_count": null,
      "metadata": {
        "id": "N-MIYMH-0pOa"
      },
      "outputs": [],
      "source": [
        "trained_W=np.load('/content/drive/My Drive/assignment2/trained_W1.npy',allow_pickle=True)\n",
        "trained_W=trained_W.tolist()\n",
        "trained_W=np.load('/content/drive/My Drive/assignment2/trained_W2.npy',allow_pickle=True)\n",
        "trained_W=trained_W.tolist()\n",
        "trained_b=np.load('/content/drive/My Drive/assignment2/trained_b1.npy',allow_pickle=True)\n",
        "trained_b=trained_b.tolist()\n",
        "trained_b=np.load('/content/drive/My Drive/assignment2/trained_b2.npy',allow_pickle=True)\n",
        "trained_b=trained_b.tolist()"
      ]
    },
    {
      "cell_type": "code",
      "execution_count": null,
      "metadata": {
        "id": "K1Q38N2YcTxv"
      },
      "outputs": [],
      "source": [
        "\n",
        "acc=accuracy(validation_X,validation_y,Wstar1,bstar1,Wstar2,bstar2)\n",
        "cost=ComputeCost(validation_X,validation_Y,Wstar1,bstar1,Wstar2,bstar2,lmd,drop_rate=0)\n",
        "print(cost)\n",
        "print(acc)"
      ]
    },
    {
      "cell_type": "code",
      "execution_count": null,
      "metadata": {
        "colab": {
          "base_uri": "https://localhost:8080/",
          "height": 633
        },
        "id": "J-F3XuLDM_w5",
        "outputId": "0784b39c-66e6-4c40-f029-b35e4ced2dfa"
      },
      "outputs": [
        {
          "ename": "ValueError",
          "evalue": "ignored",
          "output_type": "error",
          "traceback": [
            "\u001b[0;31m---------------------------------------------------------------------------\u001b[0m",
            "\u001b[0;31mValueError\u001b[0m                                Traceback (most recent call last)",
            "\u001b[0;32m<ipython-input-178-7b147d030613>\u001b[0m in \u001b[0;36m<module>\u001b[0;34m()\u001b[0m\n\u001b[1;32m      4\u001b[0m \u001b[0my1\u001b[0m\u001b[0;34m=\u001b[0m\u001b[0mtrained_costs\u001b[0m\u001b[0;34m\u001b[0m\u001b[0;34m\u001b[0m\u001b[0m\n\u001b[1;32m      5\u001b[0m \u001b[0my2\u001b[0m\u001b[0;34m=\u001b[0m\u001b[0mtrained_va_costs\u001b[0m\u001b[0;34m\u001b[0m\u001b[0;34m\u001b[0m\u001b[0m\n\u001b[0;32m----> 6\u001b[0;31m \u001b[0max\u001b[0m\u001b[0;34m.\u001b[0m\u001b[0mplot\u001b[0m\u001b[0;34m(\u001b[0m\u001b[0mx\u001b[0m\u001b[0;34m,\u001b[0m\u001b[0my1\u001b[0m\u001b[0;34m,\u001b[0m \u001b[0mlabel\u001b[0m\u001b[0;34m=\u001b[0m\u001b[0;34m'train'\u001b[0m\u001b[0;34m)\u001b[0m\u001b[0;34m\u001b[0m\u001b[0;34m\u001b[0m\u001b[0m\n\u001b[0m\u001b[1;32m      7\u001b[0m \u001b[0max\u001b[0m\u001b[0;34m.\u001b[0m\u001b[0mplot\u001b[0m\u001b[0;34m(\u001b[0m\u001b[0mx\u001b[0m\u001b[0;34m,\u001b[0m \u001b[0my2\u001b[0m\u001b[0;34m,\u001b[0m \u001b[0mlabel\u001b[0m\u001b[0;34m=\u001b[0m\u001b[0;34m'validation'\u001b[0m\u001b[0;34m)\u001b[0m\u001b[0;34m\u001b[0m\u001b[0;34m\u001b[0m\u001b[0m\n\u001b[1;32m      8\u001b[0m \u001b[0max\u001b[0m\u001b[0;34m.\u001b[0m\u001b[0mset_xlabel\u001b[0m\u001b[0;34m(\u001b[0m\u001b[0;34m'epochs'\u001b[0m\u001b[0;34m)\u001b[0m\u001b[0;34m\u001b[0m\u001b[0;34m\u001b[0m\u001b[0m\n",
            "\u001b[0;32m/usr/local/lib/python3.7/dist-packages/matplotlib/axes/_axes.py\u001b[0m in \u001b[0;36mplot\u001b[0;34m(self, scalex, scaley, data, *args, **kwargs)\u001b[0m\n\u001b[1;32m   1645\u001b[0m         \"\"\"\n\u001b[1;32m   1646\u001b[0m         \u001b[0mkwargs\u001b[0m \u001b[0;34m=\u001b[0m \u001b[0mcbook\u001b[0m\u001b[0;34m.\u001b[0m\u001b[0mnormalize_kwargs\u001b[0m\u001b[0;34m(\u001b[0m\u001b[0mkwargs\u001b[0m\u001b[0;34m,\u001b[0m \u001b[0mmlines\u001b[0m\u001b[0;34m.\u001b[0m\u001b[0mLine2D\u001b[0m\u001b[0;34m)\u001b[0m\u001b[0;34m\u001b[0m\u001b[0;34m\u001b[0m\u001b[0m\n\u001b[0;32m-> 1647\u001b[0;31m         \u001b[0mlines\u001b[0m \u001b[0;34m=\u001b[0m \u001b[0;34m[\u001b[0m\u001b[0;34m*\u001b[0m\u001b[0mself\u001b[0m\u001b[0;34m.\u001b[0m\u001b[0m_get_lines\u001b[0m\u001b[0;34m(\u001b[0m\u001b[0;34m*\u001b[0m\u001b[0margs\u001b[0m\u001b[0;34m,\u001b[0m \u001b[0mdata\u001b[0m\u001b[0;34m=\u001b[0m\u001b[0mdata\u001b[0m\u001b[0;34m,\u001b[0m \u001b[0;34m**\u001b[0m\u001b[0mkwargs\u001b[0m\u001b[0;34m)\u001b[0m\u001b[0;34m]\u001b[0m\u001b[0;34m\u001b[0m\u001b[0;34m\u001b[0m\u001b[0m\n\u001b[0m\u001b[1;32m   1648\u001b[0m         \u001b[0;32mfor\u001b[0m \u001b[0mline\u001b[0m \u001b[0;32min\u001b[0m \u001b[0mlines\u001b[0m\u001b[0;34m:\u001b[0m\u001b[0;34m\u001b[0m\u001b[0;34m\u001b[0m\u001b[0m\n\u001b[1;32m   1649\u001b[0m             \u001b[0mself\u001b[0m\u001b[0;34m.\u001b[0m\u001b[0madd_line\u001b[0m\u001b[0;34m(\u001b[0m\u001b[0mline\u001b[0m\u001b[0;34m)\u001b[0m\u001b[0;34m\u001b[0m\u001b[0;34m\u001b[0m\u001b[0m\n",
            "\u001b[0;32m/usr/local/lib/python3.7/dist-packages/matplotlib/axes/_base.py\u001b[0m in \u001b[0;36m__call__\u001b[0;34m(self, *args, **kwargs)\u001b[0m\n\u001b[1;32m    214\u001b[0m                 \u001b[0mthis\u001b[0m \u001b[0;34m+=\u001b[0m \u001b[0margs\u001b[0m\u001b[0;34m[\u001b[0m\u001b[0;36m0\u001b[0m\u001b[0;34m]\u001b[0m\u001b[0;34m,\u001b[0m\u001b[0;34m\u001b[0m\u001b[0;34m\u001b[0m\u001b[0m\n\u001b[1;32m    215\u001b[0m                 \u001b[0margs\u001b[0m \u001b[0;34m=\u001b[0m \u001b[0margs\u001b[0m\u001b[0;34m[\u001b[0m\u001b[0;36m1\u001b[0m\u001b[0;34m:\u001b[0m\u001b[0;34m]\u001b[0m\u001b[0;34m\u001b[0m\u001b[0;34m\u001b[0m\u001b[0m\n\u001b[0;32m--> 216\u001b[0;31m             \u001b[0;32myield\u001b[0m \u001b[0;32mfrom\u001b[0m \u001b[0mself\u001b[0m\u001b[0;34m.\u001b[0m\u001b[0m_plot_args\u001b[0m\u001b[0;34m(\u001b[0m\u001b[0mthis\u001b[0m\u001b[0;34m,\u001b[0m \u001b[0mkwargs\u001b[0m\u001b[0;34m)\u001b[0m\u001b[0;34m\u001b[0m\u001b[0;34m\u001b[0m\u001b[0m\n\u001b[0m\u001b[1;32m    217\u001b[0m \u001b[0;34m\u001b[0m\u001b[0m\n\u001b[1;32m    218\u001b[0m     \u001b[0;32mdef\u001b[0m \u001b[0mget_next_color\u001b[0m\u001b[0;34m(\u001b[0m\u001b[0mself\u001b[0m\u001b[0;34m)\u001b[0m\u001b[0;34m:\u001b[0m\u001b[0;34m\u001b[0m\u001b[0;34m\u001b[0m\u001b[0m\n",
            "\u001b[0;32m/usr/local/lib/python3.7/dist-packages/matplotlib/axes/_base.py\u001b[0m in \u001b[0;36m_plot_args\u001b[0;34m(self, tup, kwargs)\u001b[0m\n\u001b[1;32m    340\u001b[0m \u001b[0;34m\u001b[0m\u001b[0m\n\u001b[1;32m    341\u001b[0m         \u001b[0;32mif\u001b[0m \u001b[0mx\u001b[0m\u001b[0;34m.\u001b[0m\u001b[0mshape\u001b[0m\u001b[0;34m[\u001b[0m\u001b[0;36m0\u001b[0m\u001b[0;34m]\u001b[0m \u001b[0;34m!=\u001b[0m \u001b[0my\u001b[0m\u001b[0;34m.\u001b[0m\u001b[0mshape\u001b[0m\u001b[0;34m[\u001b[0m\u001b[0;36m0\u001b[0m\u001b[0;34m]\u001b[0m\u001b[0;34m:\u001b[0m\u001b[0;34m\u001b[0m\u001b[0;34m\u001b[0m\u001b[0m\n\u001b[0;32m--> 342\u001b[0;31m             raise ValueError(f\"x and y must have same first dimension, but \"\n\u001b[0m\u001b[1;32m    343\u001b[0m                              f\"have shapes {x.shape} and {y.shape}\")\n\u001b[1;32m    344\u001b[0m         \u001b[0;32mif\u001b[0m \u001b[0mx\u001b[0m\u001b[0;34m.\u001b[0m\u001b[0mndim\u001b[0m \u001b[0;34m>\u001b[0m \u001b[0;36m2\u001b[0m \u001b[0;32mor\u001b[0m \u001b[0my\u001b[0m\u001b[0;34m.\u001b[0m\u001b[0mndim\u001b[0m \u001b[0;34m>\u001b[0m \u001b[0;36m2\u001b[0m\u001b[0;34m:\u001b[0m\u001b[0;34m\u001b[0m\u001b[0;34m\u001b[0m\u001b[0m\n",
            "\u001b[0;31mValueError\u001b[0m: x and y must have same first dimension, but have shapes (29,) and (1,)"
          ]
        },
        {
          "data": {
            "image/png": "[encoded data removed]",
            "text/plain": [
              "<Figure size 432x288 with 1 Axes>"
            ]
          },
          "metadata": {
            "needs_background": "light"
          },
          "output_type": "display_data"
        }
      ],
      "source": [
        "import matplotlib.pyplot as plt\n",
        "fig, ax = plt.subplots()\n",
        "x=range(epochs)\n",
        "y1=trained_costs\n",
        "y2=trained_va_costs\n",
        "ax.plot(x,y1, label='train') \n",
        "ax.plot(x, y2, label='validation') \n",
        "ax.set_xlabel('epochs')\n",
        "ax.set_ylabel('loss')\n",
        "ax.set_title('Cost')\n",
        "ax.legend()\n",
        "\n",
        "plt.show()"
      ]
    },
    {
      "cell_type": "code",
      "execution_count": null,
      "metadata": {
        "id": "dQoxMnWcNDqF"
      },
      "outputs": [],
      "source": [
        "fig, ax = plt.subplots()\n",
        "x=range(epochs)\n",
        "y1=trained_accs\n",
        "y2=trained_va_acc\n",
        "ax.plot(x,y1, label='train') \n",
        "ax.plot(x,y2, label='validation') \n",
        "ax.set_xlabel('epochs')\n",
        "ax.set_ylabel('Accuracy')\n",
        "ax.set_title('Accuracy')\n",
        "ax.legend()\n",
        "\n",
        "plt.show()"
      ]
    },
    {
      "cell_type": "markdown",
      "metadata": {
        "id": "fChNlGgA3rC6"
      },
      "source": [
        "# Test Data Loading"
      ]
    },
    {
      "cell_type": "code",
      "execution_count": null,
      "metadata": {
        "id": "hNlOWhQQc0U4"
      },
      "outputs": [],
      "source": [
        "file=['/content/drive/My Drive/cifar-10/test_batch']\n",
        "Xte,Yte,yte=loadBatch(file)"
      ]
    },
    {
      "cell_type": "code",
      "execution_count": null,
      "metadata": {
        "id": "ORUXudjidK00"
      },
      "outputs": [],
      "source": [
        "\n",
        "Xte=tf.cast(Xte,dtype=tf.float64)\n",
        "Yte=tf.cast(Yte,dtype=tf.float64)\n",
        "yte=tf.cast(yte,dtype=tf.float64)\n",
        "\n",
        "from numpy.core.fromnumeric import std\n",
        "mean_Xte=tf.reduce_mean(Xte,1)\n",
        "mean_Xte=tf.reshape(mean_Xte,[10000,1])\n",
        "ones=tf.ones([1,3072],dtype=tf.float64)\n",
        "\n",
        "mean_Xte=tf.matmul(mean_Xte,ones)\n",
        "std_Xte=tf.math.reduce_std(Xte,1)\n",
        "std_Xte=tf.reshape(std_Xte,[10000,1])\n",
        "std_Xte=tf.matmul(std_Xte,ones)\n",
        "\n",
        "Xte=tf.subtract(Xte,mean_Xte)\n",
        "Xte=tf.divide(Xte,std_Xte)\n"
      ]
    },
    {
      "cell_type": "code",
      "execution_count": null,
      "metadata": {
        "id": "NuggVMlEdtmf"
      },
      "outputs": [],
      "source": []
    }
  ],
  "metadata": {
    "accelerator": "GPU",
    "colab": {
      "collapsed_sections": [
        "fyL7qKv3ZPU7",
        "w1pzrOAeYKRa",
        "JrJIll1hYZMG",
        "xYhP2RkL3PYY",
        "VW3LoVG_2ci_"
      ],
      "name": "as2-cp3.ipynb",
      "provenance": [],
      "toc_visible": true
    },
    "kernelspec": {
      "display_name": "Python 3",
      "name": "python3"
    },
    "language_info": {
      "codemirror_mode": {
        "name": "ipython",
        "version": 3
      },
      "file_extension": ".py",
      "mimetype": "text/x-python",
      "name": "python",
      "nbconvert_exporter": "python",
      "pygments_lexer": "ipython3",
      "version": "3.7.13"
    }
  },
  "nbformat": 4,
  "nbformat_minor": 0
}
